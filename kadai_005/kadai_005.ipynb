{
  "nbformat": 4,
  "nbformat_minor": 0,
  "metadata": {
    "colab": {
      "provenance": []
    },
    "kernelspec": {
      "name": "python3",
      "display_name": "Python 3"
    },
    "language_info": {
      "name": "python"
    }
  },
  "cells": [
    {
      "cell_type": "code",
      "source": [
        "top = 10\n",
        "ander = 20\n",
        "hi = 5\n",
        "\n",
        "print(str(( top + ander ) * hi / 2 ) + \"cm²\")\n"
      ],
      "metadata": {
        "colab": {
          "base_uri": "https://localhost:8080/"
        },
        "id": "NFZqlQbHzKgQ",
        "outputId": "478eba37-25f1-4735-d629-0d8682673fc7"
      },
      "execution_count": 14,
      "outputs": [
        {
          "output_type": "stream",
          "name": "stdout",
          "text": [
            "75.0cm²\n"
          ]
        }
      ]
    },
    {
      "cell_type": "code",
      "source": [],
      "metadata": {
        "id": "pY_wouzezZsG"
      },
      "execution_count": null,
      "outputs": []
    }
  ]
}