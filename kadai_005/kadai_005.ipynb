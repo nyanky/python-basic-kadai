{
  "nbformat": 4,
  "nbformat_minor": 0,
  "metadata": {
    "colab": {
      "provenance": []
    },
    "kernelspec": {
      "name": "python3",
      "display_name": "Python 3"
    },
    "language_info": {
      "name": "python"
    }
  },
  "cells": [
    {
      "cell_type": "code",
      "execution_count": 2,
      "metadata": {
        "id": "XY_dscoKIhMK",
        "colab": {
          "base_uri": "https://localhost:8080/"
        },
        "outputId": "362a980f-4389-4c67-8077-4462bc3e2e58"
      },
      "outputs": [
        {
          "output_type": "stream",
          "name": "stdout",
          "text": [
            "75.0cm²\n"
          ]
        }
      ],
      "source": [
        "\n",
        "top = 10\n",
        "ander = 20\n",
        "hi = 5\n",
        "\n",
        "area = (str(( top + ander ) * hi / 2 ) + \"cm²\")\n",
        "print(area)\n"
      ]
    }
  ]
}