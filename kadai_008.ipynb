{
  "nbformat": 4,
  "nbformat_minor": 0,
  "metadata": {
    "colab": {
      "provenance": [],
      "authorship_tag": "ABX9TyONVshAPfUG6J/WSWos8oAj",
      "include_colab_link": true
    },
    "kernelspec": {
      "name": "python3",
      "display_name": "Python 3"
    },
    "language_info": {
      "name": "python"
    }
  },
  "cells": [
    {
      "cell_type": "markdown",
      "metadata": {
        "id": "view-in-github",
        "colab_type": "text"
      },
      "source": [
        "<a href=\"https://colab.research.google.com/github/nyanky/python-basic-kadai/blob/main/kadai_008.ipynb\" target=\"_parent\"><img src=\"https://colab.research.google.com/assets/colab-badge.svg\" alt=\"Open In Colab\"/></a>"
      ]
    },
    {
      "cell_type": "code",
      "source": [
        "var = 15\n",
        "if var %3 ==0 and var %5 ==0:\n",
        "    print(\"FizzBuzz\")\n",
        "elif var %3 == 0:\n",
        "    print(\"Fizz\")\n",
        "elif var %5 == 0:\n",
        "    print(\"Buzz\")\n",
        "else:\n",
        "    print(var)"
      ],
      "metadata": {
        "colab": {
          "base_uri": "https://localhost:8080/"
        },
        "id": "yAY5Dlyt8lyC",
        "outputId": "8992ad1c-bb8a-42d5-e5c0-a341e07eb8d8"
      },
      "execution_count": 117,
      "outputs": [
        {
          "output_type": "stream",
          "name": "stdout",
          "text": [
            "FizzBuzz\n"
          ]
        }
      ]
    }
  ]
}